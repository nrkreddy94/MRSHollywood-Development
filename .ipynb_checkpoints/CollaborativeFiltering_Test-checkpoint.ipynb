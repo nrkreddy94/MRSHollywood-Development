{
 "cells": [
  {
   "cell_type": "markdown",
   "metadata": {},
   "source": [
    "### CollaborativeFiltering - Test both NLP MultinomialNB model and KNN model"
   ]
  },
  {
   "cell_type": "code",
   "execution_count": 1,
   "metadata": {},
   "outputs": [],
   "source": [
    "# import required libraries\n",
    "import pickle\n",
    "import numpy as np\n",
    "import pandas as pd\n",
    "import math\n",
    "#import vaex"
   ]
  },
  {
   "cell_type": "code",
   "execution_count": 14,
   "metadata": {},
   "outputs": [
    {
     "data": {
      "text/html": [
       "<div>\n",
       "<style scoped>\n",
       "    .dataframe tbody tr th:only-of-type {\n",
       "        vertical-align: middle;\n",
       "    }\n",
       "\n",
       "    .dataframe tbody tr th {\n",
       "        vertical-align: top;\n",
       "    }\n",
       "\n",
       "    .dataframe thead th {\n",
       "        text-align: right;\n",
       "    }\n",
       "</style>\n",
       "<table border=\"1\" class=\"dataframe\">\n",
       "  <thead>\n",
       "    <tr style=\"text-align: right;\">\n",
       "      <th></th>\n",
       "      <th>index</th>\n",
       "      <th>title</th>\n",
       "    </tr>\n",
       "  </thead>\n",
       "  <tbody>\n",
       "    <tr>\n",
       "      <th>0</th>\n",
       "      <td>0</td>\n",
       "      <td>10 cloverfield lane</td>\n",
       "    </tr>\n",
       "    <tr>\n",
       "      <th>1</th>\n",
       "      <td>1</td>\n",
       "      <td>10,000 bc</td>\n",
       "    </tr>\n",
       "    <tr>\n",
       "      <th>2</th>\n",
       "      <td>2</td>\n",
       "      <td>12 years a slave</td>\n",
       "    </tr>\n",
       "    <tr>\n",
       "      <th>3</th>\n",
       "      <td>3</td>\n",
       "      <td>127 hours</td>\n",
       "    </tr>\n",
       "    <tr>\n",
       "      <th>4</th>\n",
       "      <td>4</td>\n",
       "      <td>17 again</td>\n",
       "    </tr>\n",
       "    <tr>\n",
       "      <th>5</th>\n",
       "      <td>5</td>\n",
       "      <td>2012</td>\n",
       "    </tr>\n",
       "    <tr>\n",
       "      <th>6</th>\n",
       "      <td>6</td>\n",
       "      <td>21</td>\n",
       "    </tr>\n",
       "    <tr>\n",
       "      <th>7</th>\n",
       "      <td>7</td>\n",
       "      <td>21 jump street</td>\n",
       "    </tr>\n",
       "    <tr>\n",
       "      <th>8</th>\n",
       "      <td>8</td>\n",
       "      <td>22 jump street</td>\n",
       "    </tr>\n",
       "    <tr>\n",
       "      <th>9</th>\n",
       "      <td>9</td>\n",
       "      <td>27 dresses</td>\n",
       "    </tr>\n",
       "  </tbody>\n",
       "</table>\n",
       "</div>"
      ],
      "text/plain": [
       "   index                 title\n",
       "0      0  10 cloverfield lane \n",
       "1      1            10,000 bc \n",
       "2      2     12 years a slave \n",
       "3      3            127 hours \n",
       "4      4             17 again \n",
       "5      5                 2012 \n",
       "6      6                   21 \n",
       "7      7       21 jump street \n",
       "8      8       22 jump street \n",
       "9      9           27 dresses "
      ]
     },
     "execution_count": 14,
     "metadata": {},
     "output_type": "execute_result"
    }
   ],
   "source": [
    "# Load movie_user_rating_index.csv \n",
    "movie_features_index_df=pd.read_csv(\"movie_user_rating_index.csv\",encoding ='utf-8',compression='gzip')\n",
    "movie_features_index_df.head(10)\n"
   ]
  },
  {
   "cell_type": "code",
   "execution_count": 3,
   "metadata": {},
   "outputs": [
    {
     "data": {
      "text/plain": [
       "index    0\n",
       "title    0\n",
       "dtype: int64"
      ]
     },
     "execution_count": 3,
     "metadata": {},
     "output_type": "execute_result"
    }
   ],
   "source": [
    "# by mistaken ly NAN value saved from previous pipline Collabortive filtering model creation\n",
    "# No issues eventhough with NAN \n",
    "movie_features_index_df.isnull().sum()"
   ]
  },
  {
   "cell_type": "code",
   "execution_count": 4,
   "metadata": {},
   "outputs": [],
   "source": [
    "# Load pivot test table  - used 10 movies data for testing\n",
    "movie_user_rating_pivottable=pd.read_csv(\"movie_user_rating_pivottable_test.csv\",encoding ='utf-8',compression='gzip')"
   ]
  },
  {
   "cell_type": "code",
   "execution_count": 5,
   "metadata": {},
   "outputs": [
    {
     "data": {
      "text/html": [
       "<div>\n",
       "<style scoped>\n",
       "    .dataframe tbody tr th:only-of-type {\n",
       "        vertical-align: middle;\n",
       "    }\n",
       "\n",
       "    .dataframe tbody tr th {\n",
       "        vertical-align: top;\n",
       "    }\n",
       "\n",
       "    .dataframe thead th {\n",
       "        text-align: right;\n",
       "    }\n",
       "</style>\n",
       "<table border=\"1\" class=\"dataframe\">\n",
       "  <thead>\n",
       "    <tr style=\"text-align: right;\">\n",
       "      <th></th>\n",
       "      <th>14</th>\n",
       "      <th>15</th>\n",
       "      <th>34</th>\n",
       "      <th>35</th>\n",
       "      <th>36</th>\n",
       "      <th>42</th>\n",
       "      <th>48</th>\n",
       "      <th>53</th>\n",
       "      <th>56</th>\n",
       "      <th>67</th>\n",
       "      <th>...</th>\n",
       "      <th>283182</th>\n",
       "      <th>283183</th>\n",
       "      <th>283184</th>\n",
       "      <th>283189</th>\n",
       "      <th>283193</th>\n",
       "      <th>283195</th>\n",
       "      <th>283199</th>\n",
       "      <th>283206</th>\n",
       "      <th>283210</th>\n",
       "      <th>283219</th>\n",
       "    </tr>\n",
       "  </thead>\n",
       "  <tbody>\n",
       "    <tr>\n",
       "      <th>0</th>\n",
       "      <td>0.0</td>\n",
       "      <td>0.0</td>\n",
       "      <td>0.0</td>\n",
       "      <td>0</td>\n",
       "      <td>0.0</td>\n",
       "      <td>0.0</td>\n",
       "      <td>0.0</td>\n",
       "      <td>0.0</td>\n",
       "      <td>0.0</td>\n",
       "      <td>0</td>\n",
       "      <td>...</td>\n",
       "      <td>0.0</td>\n",
       "      <td>0.0</td>\n",
       "      <td>0.0</td>\n",
       "      <td>0.0</td>\n",
       "      <td>0.0</td>\n",
       "      <td>0.0</td>\n",
       "      <td>0.0</td>\n",
       "      <td>0.0</td>\n",
       "      <td>0.0</td>\n",
       "      <td>0.0</td>\n",
       "    </tr>\n",
       "    <tr>\n",
       "      <th>1</th>\n",
       "      <td>0.0</td>\n",
       "      <td>0.0</td>\n",
       "      <td>0.0</td>\n",
       "      <td>2</td>\n",
       "      <td>0.0</td>\n",
       "      <td>0.0</td>\n",
       "      <td>0.0</td>\n",
       "      <td>0.0</td>\n",
       "      <td>3.0</td>\n",
       "      <td>0</td>\n",
       "      <td>...</td>\n",
       "      <td>0.0</td>\n",
       "      <td>0.0</td>\n",
       "      <td>0.0</td>\n",
       "      <td>0.0</td>\n",
       "      <td>0.0</td>\n",
       "      <td>0.0</td>\n",
       "      <td>0.0</td>\n",
       "      <td>0.0</td>\n",
       "      <td>0.0</td>\n",
       "      <td>0.0</td>\n",
       "    </tr>\n",
       "    <tr>\n",
       "      <th>2</th>\n",
       "      <td>4.0</td>\n",
       "      <td>0.0</td>\n",
       "      <td>0.0</td>\n",
       "      <td>0</td>\n",
       "      <td>0.0</td>\n",
       "      <td>0.0</td>\n",
       "      <td>4.0</td>\n",
       "      <td>0.0</td>\n",
       "      <td>0.0</td>\n",
       "      <td>0</td>\n",
       "      <td>...</td>\n",
       "      <td>0.0</td>\n",
       "      <td>0.0</td>\n",
       "      <td>0.0</td>\n",
       "      <td>0.0</td>\n",
       "      <td>0.0</td>\n",
       "      <td>0.0</td>\n",
       "      <td>0.0</td>\n",
       "      <td>0.0</td>\n",
       "      <td>0.0</td>\n",
       "      <td>0.0</td>\n",
       "    </tr>\n",
       "    <tr>\n",
       "      <th>3</th>\n",
       "      <td>0.0</td>\n",
       "      <td>0.0</td>\n",
       "      <td>0.0</td>\n",
       "      <td>0</td>\n",
       "      <td>0.0</td>\n",
       "      <td>0.0</td>\n",
       "      <td>0.0</td>\n",
       "      <td>0.0</td>\n",
       "      <td>0.0</td>\n",
       "      <td>0</td>\n",
       "      <td>...</td>\n",
       "      <td>0.0</td>\n",
       "      <td>0.0</td>\n",
       "      <td>0.0</td>\n",
       "      <td>0.0</td>\n",
       "      <td>0.0</td>\n",
       "      <td>0.0</td>\n",
       "      <td>0.0</td>\n",
       "      <td>0.0</td>\n",
       "      <td>0.0</td>\n",
       "      <td>0.0</td>\n",
       "    </tr>\n",
       "    <tr>\n",
       "      <th>4</th>\n",
       "      <td>0.0</td>\n",
       "      <td>0.0</td>\n",
       "      <td>0.0</td>\n",
       "      <td>0</td>\n",
       "      <td>0.0</td>\n",
       "      <td>0.0</td>\n",
       "      <td>0.0</td>\n",
       "      <td>0.0</td>\n",
       "      <td>0.0</td>\n",
       "      <td>0</td>\n",
       "      <td>...</td>\n",
       "      <td>0.0</td>\n",
       "      <td>0.0</td>\n",
       "      <td>0.0</td>\n",
       "      <td>0.0</td>\n",
       "      <td>0.0</td>\n",
       "      <td>0.0</td>\n",
       "      <td>0.0</td>\n",
       "      <td>0.0</td>\n",
       "      <td>0.0</td>\n",
       "      <td>0.0</td>\n",
       "    </tr>\n",
       "  </tbody>\n",
       "</table>\n",
       "<p>5 rows × 49672 columns</p>\n",
       "</div>"
      ],
      "text/plain": [
       "    14   15   34  35   36   42   48   53   56  67  ...  283182  283183  \\\n",
       "0  0.0  0.0  0.0   0  0.0  0.0  0.0  0.0  0.0   0  ...     0.0     0.0   \n",
       "1  0.0  0.0  0.0   2  0.0  0.0  0.0  0.0  3.0   0  ...     0.0     0.0   \n",
       "2  4.0  0.0  0.0   0  0.0  0.0  4.0  0.0  0.0   0  ...     0.0     0.0   \n",
       "3  0.0  0.0  0.0   0  0.0  0.0  0.0  0.0  0.0   0  ...     0.0     0.0   \n",
       "4  0.0  0.0  0.0   0  0.0  0.0  0.0  0.0  0.0   0  ...     0.0     0.0   \n",
       "\n",
       "   283184  283189  283193  283195  283199  283206  283210  283219  \n",
       "0     0.0     0.0     0.0     0.0     0.0     0.0     0.0     0.0  \n",
       "1     0.0     0.0     0.0     0.0     0.0     0.0     0.0     0.0  \n",
       "2     0.0     0.0     0.0     0.0     0.0     0.0     0.0     0.0  \n",
       "3     0.0     0.0     0.0     0.0     0.0     0.0     0.0     0.0  \n",
       "4     0.0     0.0     0.0     0.0     0.0     0.0     0.0     0.0  \n",
       "\n",
       "[5 rows x 49672 columns]"
      ]
     },
     "execution_count": 5,
     "metadata": {},
     "output_type": "execute_result"
    }
   ],
   "source": [
    "movie_user_rating_pivottable.head(5)"
   ]
  },
  {
   "cell_type": "code",
   "execution_count": 6,
   "metadata": {},
   "outputs": [],
   "source": [
    "# Load KNN model\n",
    "model_knn = pickle.load( open( \"collaborativeFiltering_model.pkl\", \"rb\" ) )"
   ]
  },
  {
   "cell_type": "code",
   "execution_count": 7,
   "metadata": {},
   "outputs": [],
   "source": [
    "# Load classifier\n",
    "model_classifier = pickle.load( open( \"collaborativeFiltering_NLP_model.pkl\", \"rb\" ) )"
   ]
  },
  {
   "cell_type": "code",
   "execution_count": 8,
   "metadata": {},
   "outputs": [],
   "source": [
    "# Load TFIDF NLP vectorizer\n",
    "vectorizer = pickle.load(open(\"collaborativeFiltering_NLP_vectorizer.pkl\", 'rb'))  "
   ]
  },
  {
   "cell_type": "code",
   "execution_count": 20,
   "metadata": {},
   "outputs": [],
   "source": [
    "# pass movie name and get movie index which can be used in recommendation modelmodel_knn\n",
    "def getMovieIndex(name):\n",
    "    name=name.strip().lower()\n",
    "    firstValue=\"10 cloverfield lane\".lower()\n",
    "    test_vector= vectorizer.transform([name])\n",
    "    predicted = model_classifier.predict(test_vector)\n",
    "    \n",
    "    available =   name in firstValue\n",
    "    # return -1 for unavailable movies\n",
    "    if((predicted[0] == 0) & (~available)):\n",
    "        return -1\n",
    "    else:\n",
    "        return predicted[0]"
   ]
  },
  {
   "cell_type": "code",
   "execution_count": 10,
   "metadata": {},
   "outputs": [],
   "source": [
    "# Pass index and get similar movies\n",
    "def getRecomendedMoviesByIndex(queryIndex,numOfMovies):\n",
    "    distances, indices = model_knn.kneighbors(movie_user_rating_pivottable.iloc[queryIndex,:].values.reshape(1, -1), n_neighbors = numOfMovies)\n",
    "    return distances,indices"
   ]
  },
  {
   "cell_type": "code",
   "execution_count": 11,
   "metadata": {},
   "outputs": [],
   "source": [
    "# Pass movie name and get similar movies\n",
    "def recommendedMovies(name,numOfMovies=5):\n",
    "    movieList=list()\n",
    "    query_index=getMovieIndex(name)\n",
    "    distances, indices =getRecomendedMoviesByIndex(query_index,numOfMovies)\n",
    "    for i in range(0, len(distances.flatten())):\n",
    "        movieList.append(movie_features_index_df.title[indices.flatten()[i]])\n",
    "    return movieList\n"
   ]
  },
  {
   "cell_type": "code",
   "execution_count": 21,
   "metadata": {},
   "outputs": [
    {
     "data": {
      "text/plain": [
       "-1"
      ]
     },
     "execution_count": 21,
     "metadata": {},
     "output_type": "execute_result"
    }
   ],
   "source": [
    "#name=\"Iron Man\"\n",
    "#name=\"101 dalmatians\"\n",
    "name=\"sflasjlfkjlafl\"\n",
    "numOfMovies=10\n",
    "getMovieIndex(name)"
   ]
  },
  {
   "cell_type": "code",
   "execution_count": 22,
   "metadata": {},
   "outputs": [
    {
     "data": {
      "text/plain": [
       "(array([[2.10942375e-15, 6.31058085e-01, 6.46263324e-01, 6.75821453e-01,\n",
       "         6.76531706e-01, 6.94942499e-01, 6.96716398e-01, 6.96901354e-01,\n",
       "         7.01166321e-01, 7.19368845e-01]]),\n",
       " array([[  4, 301,   9, 109, 419, 415, 418, 437, 163, 127]], dtype=int64))"
      ]
     },
     "execution_count": 22,
     "metadata": {},
     "output_type": "execute_result"
    }
   ],
   "source": [
    "getRecomendedMoviesByIndex(4,10)"
   ]
  },
  {
   "cell_type": "code",
   "execution_count": 23,
   "metadata": {},
   "outputs": [
    {
     "data": {
      "text/plain": [
       "True"
      ]
     },
     "execution_count": 23,
     "metadata": {},
     "output_type": "execute_result"
    }
   ],
   "source": [
    "firstValue=\"burb\"\n",
    "name=\"burb\"\n",
    "\n",
    "available = firstValue in name\n",
    "available"
   ]
  },
  {
   "cell_type": "code",
   "execution_count": 28,
   "metadata": {},
   "outputs": [
    {
     "name": "stdout",
     "output_type": "stream",
     "text": [
      "Recommendations for 17 again :\n",
      "\n",
      "1: proposal, the  =  37% \n",
      "2: 27 dresses  =  36% \n",
      "3: easy a  =  33% \n",
      "4: ugly truth, the  =  33% \n",
      "5: twilight  =  31% \n",
      "6: twilight saga: new moon, the  =  31% \n",
      "7: what happens in vegas...  =  31% \n",
      "8: he's just not that into you  =  30% \n",
      "9: friends with benefits  =  29% \n"
     ]
    }
   ],
   "source": [
    "name=\"17 again\"\n",
    "#name=\"101 dalmatians\"\n",
    "#name=\"asljflasjflaj sjdflajf\"\n",
    "query_index=getMovieIndex(name)\n",
    "numOfMovies=10\n",
    "try:\n",
    "    distances, indices =getRecomendedMoviesByIndex(query_index,numOfMovies)\n",
    "    for i in range(0, len(distances.flatten())):\n",
    "        if i == 0:\n",
    "            print('Recommendations for {0}:\\n'.format(movie_features_index_df.title[query_index]))\n",
    "        else:\n",
    "            print('{0}: {1} =  {2}% '.format(i, movie_features_index_df.title[indices.flatten()[i]],(math.ceil((1 - distances.flatten()[i])*100)) ))\n",
    "except IndexError:\n",
    "    print(\"Movie Index not found\")\n",
    "except KeyError:\n",
    "    print(\"Movie Index not found\")"
   ]
  }
 ],
 "metadata": {
  "kernelspec": {
   "display_name": "Python 3",
   "language": "python",
   "name": "python3"
  },
  "language_info": {
   "codemirror_mode": {
    "name": "ipython",
    "version": 3
   },
   "file_extension": ".py",
   "mimetype": "text/x-python",
   "name": "python",
   "nbconvert_exporter": "python",
   "pygments_lexer": "ipython3",
   "version": "3.7.6"
  }
 },
 "nbformat": 4,
 "nbformat_minor": 4
}
