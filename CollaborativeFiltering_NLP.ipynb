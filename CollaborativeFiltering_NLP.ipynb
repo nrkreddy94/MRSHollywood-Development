{
 "cells": [
  {
   "cell_type": "markdown",
   "metadata": {},
   "source": [
    "### NLP and MultinomialNB Model - Get query index by passing movit title "
   ]
  },
  {
   "cell_type": "code",
   "execution_count": 1,
   "metadata": {},
   "outputs": [],
   "source": [
    "# From pevious pipeline we have created movie_user_rating_index.csv\n",
    "# We will use that csv here to get index for movie title"
   ]
  },
  {
   "cell_type": "code",
   "execution_count": 2,
   "metadata": {},
   "outputs": [
    {
     "name": "stderr",
     "output_type": "stream",
     "text": [
      "[nltk_data] Downloading package stopwords to C:\\Users\\Jagadheeswar\n",
      "[nltk_data]     Reddy\\AppData\\Roaming\\nltk_data...\n",
      "[nltk_data]   Package stopwords is already up-to-date!\n"
     ]
    }
   ],
   "source": [
    "import pandas as pd\n",
    "import numpy as np\n",
    "import nltk\n",
    "from nltk.tokenize import word_tokenize\n",
    "import pickle\n",
    "nltk.download('stopwords')\n",
    "from nltk.corpus import stopwords\n",
    "stop_words = stopwords.words('english')"
   ]
  },
  {
   "cell_type": "code",
   "execution_count": 3,
   "metadata": {},
   "outputs": [
    {
     "data": {
      "text/html": [
       "<div>\n",
       "<style scoped>\n",
       "    .dataframe tbody tr th:only-of-type {\n",
       "        vertical-align: middle;\n",
       "    }\n",
       "\n",
       "    .dataframe tbody tr th {\n",
       "        vertical-align: top;\n",
       "    }\n",
       "\n",
       "    .dataframe thead th {\n",
       "        text-align: right;\n",
       "    }\n",
       "</style>\n",
       "<table border=\"1\" class=\"dataframe\">\n",
       "  <thead>\n",
       "    <tr style=\"text-align: right;\">\n",
       "      <th></th>\n",
       "      <th>index</th>\n",
       "      <th>title</th>\n",
       "    </tr>\n",
       "  </thead>\n",
       "  <tbody>\n",
       "    <tr>\n",
       "      <th>0</th>\n",
       "      <td>0</td>\n",
       "      <td>10 cloverfield lane</td>\n",
       "    </tr>\n",
       "    <tr>\n",
       "      <th>1</th>\n",
       "      <td>1</td>\n",
       "      <td>12 years a slave</td>\n",
       "    </tr>\n",
       "    <tr>\n",
       "      <th>2</th>\n",
       "      <td>2</td>\n",
       "      <td>22 jump street</td>\n",
       "    </tr>\n",
       "    <tr>\n",
       "      <th>3</th>\n",
       "      <td>3</td>\n",
       "      <td>about time</td>\n",
       "    </tr>\n",
       "    <tr>\n",
       "      <th>4</th>\n",
       "      <td>4</td>\n",
       "      <td>american hustle</td>\n",
       "    </tr>\n",
       "    <tr>\n",
       "      <th>...</th>\n",
       "      <td>...</td>\n",
       "      <td>...</td>\n",
       "    </tr>\n",
       "    <tr>\n",
       "      <th>107</th>\n",
       "      <td>107</td>\n",
       "      <td>world war z</td>\n",
       "    </tr>\n",
       "    <tr>\n",
       "      <th>108</th>\n",
       "      <td>108</td>\n",
       "      <td>world's end, the</td>\n",
       "    </tr>\n",
       "    <tr>\n",
       "      <th>109</th>\n",
       "      <td>109</td>\n",
       "      <td>x-men: apocalypse</td>\n",
       "    </tr>\n",
       "    <tr>\n",
       "      <th>110</th>\n",
       "      <td>110</td>\n",
       "      <td>x-men: days of future past</td>\n",
       "    </tr>\n",
       "    <tr>\n",
       "      <th>111</th>\n",
       "      <td>111</td>\n",
       "      <td>zootopia</td>\n",
       "    </tr>\n",
       "  </tbody>\n",
       "</table>\n",
       "<p>112 rows × 2 columns</p>\n",
       "</div>"
      ],
      "text/plain": [
       "     index                        title\n",
       "0        0         10 cloverfield lane \n",
       "1        1            12 years a slave \n",
       "2        2              22 jump street \n",
       "3        3                  about time \n",
       "4        4             american hustle \n",
       "..     ...                          ...\n",
       "107    107                 world war z \n",
       "108    108            world's end, the \n",
       "109    109           x-men: apocalypse \n",
       "110    110  x-men: days of future past \n",
       "111    111                    zootopia \n",
       "\n",
       "[112 rows x 2 columns]"
      ]
     },
     "execution_count": 3,
     "metadata": {},
     "output_type": "execute_result"
    }
   ],
   "source": [
    "# Load movie_user_rating_index.csv\n",
    "movie_user_rating_index=pd.read_csv(\"movie_user_rating_index.csv\",encoding='utf-8',compression='gzip') \n",
    "movie_user_rating_index"
   ]
  },
  {
   "cell_type": "code",
   "execution_count": 4,
   "metadata": {},
   "outputs": [
    {
     "data": {
      "text/plain": [
       "index    0\n",
       "title    0\n",
       "dtype: int64"
      ]
     },
     "execution_count": 4,
     "metadata": {},
     "output_type": "execute_result"
    }
   ],
   "source": [
    "# By mistakenly model was trained with one NAN value with movie title\n",
    "# Anyway no problem we will remove this NAN and train NLP model\n",
    "# Check summary of null values\n",
    "movie_user_rating_index.isnull().sum()"
   ]
  },
  {
   "cell_type": "code",
   "execution_count": 5,
   "metadata": {},
   "outputs": [
    {
     "data": {
      "text/plain": [
       "index    0\n",
       "title    0\n",
       "dtype: int64"
      ]
     },
     "execution_count": 5,
     "metadata": {},
     "output_type": "execute_result"
    }
   ],
   "source": [
    "# we have only one null value,just remove this\n",
    "movie_user_rating_index.dropna(inplace=True)\n",
    "movie_user_rating_index.isnull().sum()"
   ]
  },
  {
   "cell_type": "code",
   "execution_count": 6,
   "metadata": {},
   "outputs": [
    {
     "data": {
      "text/plain": [
       "(112, 2)"
      ]
     },
     "execution_count": 6,
     "metadata": {},
     "output_type": "execute_result"
    }
   ],
   "source": [
    "# check shape of movie_user_rating_index\n",
    "movie_user_rating_index.shape"
   ]
  },
  {
   "cell_type": "code",
   "execution_count": 7,
   "metadata": {},
   "outputs": [
    {
     "data": {
      "text/html": [
       "<div>\n",
       "<style scoped>\n",
       "    .dataframe tbody tr th:only-of-type {\n",
       "        vertical-align: middle;\n",
       "    }\n",
       "\n",
       "    .dataframe tbody tr th {\n",
       "        vertical-align: top;\n",
       "    }\n",
       "\n",
       "    .dataframe thead th {\n",
       "        text-align: right;\n",
       "    }\n",
       "</style>\n",
       "<table border=\"1\" class=\"dataframe\">\n",
       "  <thead>\n",
       "    <tr style=\"text-align: right;\">\n",
       "      <th></th>\n",
       "      <th>index</th>\n",
       "      <th>title</th>\n",
       "      <th>clean_title</th>\n",
       "    </tr>\n",
       "  </thead>\n",
       "  <tbody>\n",
       "    <tr>\n",
       "      <th>0</th>\n",
       "      <td>0</td>\n",
       "      <td>10 cloverfield lane</td>\n",
       "      <td>10 cloverfield lane</td>\n",
       "    </tr>\n",
       "    <tr>\n",
       "      <th>1</th>\n",
       "      <td>1</td>\n",
       "      <td>12 years a slave</td>\n",
       "      <td>12 years a slave</td>\n",
       "    </tr>\n",
       "    <tr>\n",
       "      <th>2</th>\n",
       "      <td>2</td>\n",
       "      <td>22 jump street</td>\n",
       "      <td>22 jump street</td>\n",
       "    </tr>\n",
       "    <tr>\n",
       "      <th>3</th>\n",
       "      <td>3</td>\n",
       "      <td>about time</td>\n",
       "      <td>about time</td>\n",
       "    </tr>\n",
       "    <tr>\n",
       "      <th>4</th>\n",
       "      <td>4</td>\n",
       "      <td>american hustle</td>\n",
       "      <td>american hustle</td>\n",
       "    </tr>\n",
       "    <tr>\n",
       "      <th>...</th>\n",
       "      <td>...</td>\n",
       "      <td>...</td>\n",
       "      <td>...</td>\n",
       "    </tr>\n",
       "    <tr>\n",
       "      <th>107</th>\n",
       "      <td>107</td>\n",
       "      <td>world war z</td>\n",
       "      <td>world war z</td>\n",
       "    </tr>\n",
       "    <tr>\n",
       "      <th>108</th>\n",
       "      <td>108</td>\n",
       "      <td>world's end, the</td>\n",
       "      <td>world s end  the</td>\n",
       "    </tr>\n",
       "    <tr>\n",
       "      <th>109</th>\n",
       "      <td>109</td>\n",
       "      <td>x-men: apocalypse</td>\n",
       "      <td>x men  apocalypse</td>\n",
       "    </tr>\n",
       "    <tr>\n",
       "      <th>110</th>\n",
       "      <td>110</td>\n",
       "      <td>x-men: days of future past</td>\n",
       "      <td>x men  days of future past</td>\n",
       "    </tr>\n",
       "    <tr>\n",
       "      <th>111</th>\n",
       "      <td>111</td>\n",
       "      <td>zootopia</td>\n",
       "      <td>zootopia</td>\n",
       "    </tr>\n",
       "  </tbody>\n",
       "</table>\n",
       "<p>112 rows × 3 columns</p>\n",
       "</div>"
      ],
      "text/plain": [
       "     index                        title                  clean_title\n",
       "0        0         10 cloverfield lane          10 cloverfield lane \n",
       "1        1            12 years a slave             12 years a slave \n",
       "2        2              22 jump street               22 jump street \n",
       "3        3                  about time                   about time \n",
       "4        4             american hustle              american hustle \n",
       "..     ...                          ...                          ...\n",
       "107    107                 world war z                  world war z \n",
       "108    108            world's end, the             world s end  the \n",
       "109    109           x-men: apocalypse            x men  apocalypse \n",
       "110    110  x-men: days of future past   x men  days of future past \n",
       "111    111                    zootopia                     zootopia \n",
       "\n",
       "[112 rows x 3 columns]"
      ]
     },
     "execution_count": 7,
     "metadata": {},
     "output_type": "execute_result"
    }
   ],
   "source": [
    "#remove special characters \n",
    "movie_user_rating_index['clean_title'] = movie_user_rating_index['title'].str.replace(\"[^0-9a-zA-Z#]\", \" \")\n",
    "#lowercase all characters\n",
    "movie_user_rating_index['clean_title'] = movie_user_rating_index['clean_title'].fillna('').apply(lambda x: x.lower())\n",
    "movie_user_rating_index"
   ]
  },
  {
   "cell_type": "code",
   "execution_count": 8,
   "metadata": {},
   "outputs": [
    {
     "data": {
      "text/plain": [
       "112"
      ]
     },
     "execution_count": 8,
     "metadata": {},
     "output_type": "execute_result"
    }
   ],
   "source": [
    "len(movie_user_rating_index)"
   ]
  },
  {
   "cell_type": "code",
   "execution_count": 9,
   "metadata": {},
   "outputs": [],
   "source": [
    "# tokenization - get all words from all movie titles\n",
    "tokenized_doc = movie_user_rating_index['clean_title'].fillna('').apply(lambda x: x.split())\n",
    "# remove stop-words\n",
    "tokenized_doc = tokenized_doc.apply(lambda x: [item for item in x if item not in stop_words])\n",
    "# de-tokenization\n",
    "detokenized_doc = []\n",
    " # start from 1 and ends with length + 1 as move removed NAN from title \n",
    " # it supposed to be like for i in range(0,len(movie_user_rating_index)):\n",
    "for i in range(0,len(movie_user_rating_index)):\n",
    "        t = \" \".join(tokenized_doc[i])\n",
    "        detokenized_doc.append(t)\n",
    "movie_user_rating_index['clean_title'] = detokenized_doc\n",
    "\n"
   ]
  },
  {
   "cell_type": "code",
   "execution_count": 10,
   "metadata": {},
   "outputs": [
    {
     "data": {
      "text/plain": [
       "112"
      ]
     },
     "execution_count": 10,
     "metadata": {},
     "output_type": "execute_result"
    }
   ],
   "source": [
    "len(tokenized_doc)"
   ]
  },
  {
   "cell_type": "code",
   "execution_count": 11,
   "metadata": {},
   "outputs": [
    {
     "data": {
      "text/html": [
       "<div>\n",
       "<style scoped>\n",
       "    .dataframe tbody tr th:only-of-type {\n",
       "        vertical-align: middle;\n",
       "    }\n",
       "\n",
       "    .dataframe tbody tr th {\n",
       "        vertical-align: top;\n",
       "    }\n",
       "\n",
       "    .dataframe thead th {\n",
       "        text-align: right;\n",
       "    }\n",
       "</style>\n",
       "<table border=\"1\" class=\"dataframe\">\n",
       "  <thead>\n",
       "    <tr style=\"text-align: right;\">\n",
       "      <th></th>\n",
       "      <th>index</th>\n",
       "      <th>title</th>\n",
       "      <th>clean_title</th>\n",
       "    </tr>\n",
       "  </thead>\n",
       "  <tbody>\n",
       "    <tr>\n",
       "      <th>0</th>\n",
       "      <td>0</td>\n",
       "      <td>10 cloverfield lane</td>\n",
       "      <td>10 cloverfield lane</td>\n",
       "    </tr>\n",
       "    <tr>\n",
       "      <th>1</th>\n",
       "      <td>1</td>\n",
       "      <td>12 years a slave</td>\n",
       "      <td>12 years slave</td>\n",
       "    </tr>\n",
       "    <tr>\n",
       "      <th>2</th>\n",
       "      <td>2</td>\n",
       "      <td>22 jump street</td>\n",
       "      <td>22 jump street</td>\n",
       "    </tr>\n",
       "    <tr>\n",
       "      <th>3</th>\n",
       "      <td>3</td>\n",
       "      <td>about time</td>\n",
       "      <td>time</td>\n",
       "    </tr>\n",
       "    <tr>\n",
       "      <th>4</th>\n",
       "      <td>4</td>\n",
       "      <td>american hustle</td>\n",
       "      <td>american hustle</td>\n",
       "    </tr>\n",
       "    <tr>\n",
       "      <th>...</th>\n",
       "      <td>...</td>\n",
       "      <td>...</td>\n",
       "      <td>...</td>\n",
       "    </tr>\n",
       "    <tr>\n",
       "      <th>107</th>\n",
       "      <td>107</td>\n",
       "      <td>world war z</td>\n",
       "      <td>world war z</td>\n",
       "    </tr>\n",
       "    <tr>\n",
       "      <th>108</th>\n",
       "      <td>108</td>\n",
       "      <td>world's end, the</td>\n",
       "      <td>world end</td>\n",
       "    </tr>\n",
       "    <tr>\n",
       "      <th>109</th>\n",
       "      <td>109</td>\n",
       "      <td>x-men: apocalypse</td>\n",
       "      <td>x men apocalypse</td>\n",
       "    </tr>\n",
       "    <tr>\n",
       "      <th>110</th>\n",
       "      <td>110</td>\n",
       "      <td>x-men: days of future past</td>\n",
       "      <td>x men days future past</td>\n",
       "    </tr>\n",
       "    <tr>\n",
       "      <th>111</th>\n",
       "      <td>111</td>\n",
       "      <td>zootopia</td>\n",
       "      <td>zootopia</td>\n",
       "    </tr>\n",
       "  </tbody>\n",
       "</table>\n",
       "<p>112 rows × 3 columns</p>\n",
       "</div>"
      ],
      "text/plain": [
       "     index                        title             clean_title\n",
       "0        0         10 cloverfield lane      10 cloverfield lane\n",
       "1        1            12 years a slave           12 years slave\n",
       "2        2              22 jump street           22 jump street\n",
       "3        3                  about time                     time\n",
       "4        4             american hustle          american hustle\n",
       "..     ...                          ...                     ...\n",
       "107    107                 world war z              world war z\n",
       "108    108            world's end, the                world end\n",
       "109    109           x-men: apocalypse         x men apocalypse\n",
       "110    110  x-men: days of future past   x men days future past\n",
       "111    111                    zootopia                 zootopia\n",
       "\n",
       "[112 rows x 3 columns]"
      ]
     },
     "execution_count": 11,
     "metadata": {},
     "output_type": "execute_result"
    }
   ],
   "source": [
    "movie_user_rating_index"
   ]
  },
  {
   "cell_type": "markdown",
   "metadata": {},
   "source": [
    "#### Words frequency Visualization"
   ]
  },
  {
   "cell_type": "code",
   "execution_count": 12,
   "metadata": {},
   "outputs": [
    {
     "name": "stdout",
     "output_type": "stream",
     "text": [
      "Total tokens = 243\n"
     ]
    },
    {
     "data": {
      "text/plain": [
       "['man',\n",
       " '2',\n",
       " 'world',\n",
       " 'star',\n",
       " 'captain',\n",
       " 'hunger',\n",
       " 'games',\n",
       " 'street',\n",
       " 'american',\n",
       " 'dawn',\n",
       " 'big',\n",
       " 'runner',\n",
       " 'america',\n",
       " 'war',\n",
       " 'game',\n",
       " 'fury',\n",
       " 'guardians',\n",
       " 'galaxy',\n",
       " 'hobbit',\n",
       " 'secret',\n",
       " 'la',\n",
       " 'rogue',\n",
       " 'wars',\n",
       " 'trek',\n",
       " 'spider',\n",
       " 'mockingjay',\n",
       " 'part',\n",
       " 'end',\n",
       " 'thor',\n",
       " 'x',\n",
       " 'men',\n",
       " '10',\n",
       " 'cloverfield',\n",
       " 'lane',\n",
       " '12',\n",
       " 'years',\n",
       " 'slave',\n",
       " '22',\n",
       " 'jump',\n",
       " 'time',\n",
       " 'hustle',\n",
       " 'sniper',\n",
       " 'ant',\n",
       " 'arrival',\n",
       " 'avengers',\n",
       " 'age',\n",
       " 'ultron',\n",
       " 'baby',\n",
       " 'driver',\n",
       " 'batman',\n",
       " 'v',\n",
       " 'superman',\n",
       " 'justice',\n",
       " 'hero',\n",
       " '6',\n",
       " 'short',\n",
       " 'blade',\n",
       " '2049',\n",
       " 'boyhood',\n",
       " 'bridge',\n",
       " 'spies',\n",
       " 'civil',\n",
       " 'winter',\n",
       " 'soldier',\n",
       " 'phillips',\n",
       " 'chappie',\n",
       " 'conjuring',\n",
       " 'dallas',\n",
       " 'buyers',\n",
       " 'club',\n",
       " 'planet',\n",
       " 'apes',\n",
       " 'deadpool',\n",
       " 'despicable',\n",
       " 'divergent',\n",
       " 'doctor',\n",
       " 'strange',\n",
       " 'dunkirk',\n",
       " 'edge',\n",
       " 'tomorrow',\n",
       " 'elysium',\n",
       " 'ender',\n",
       " 'ex',\n",
       " 'machina',\n",
       " 'fantastic',\n",
       " 'beasts',\n",
       " 'find',\n",
       " 'finding',\n",
       " 'dory',\n",
       " 'frozen',\n",
       " 'get',\n",
       " 'godzilla',\n",
       " 'gone',\n",
       " 'girl',\n",
       " 'grand',\n",
       " 'budapest',\n",
       " 'hotel',\n",
       " 'gravity',\n",
       " 'great',\n",
       " 'gatsby',\n",
       " 'desolation',\n",
       " 'smaug',\n",
       " 'train',\n",
       " 'dragon',\n",
       " 'inside',\n",
       " 'interstellar',\n",
       " 'iron',\n",
       " '3',\n",
       " 'john',\n",
       " 'wick',\n",
       " 'jurassic',\n",
       " 'kingsman',\n",
       " 'service',\n",
       " 'land',\n",
       " 'logan',\n",
       " 'lucy',\n",
       " 'mad',\n",
       " 'max',\n",
       " 'road',\n",
       " 'maleficent',\n",
       " 'steel',\n",
       " 'maze',\n",
       " 'mission',\n",
       " 'impossible',\n",
       " 'nation',\n",
       " 'moana',\n",
       " 'monsters',\n",
       " 'university',\n",
       " 'nightcrawler',\n",
       " 'see',\n",
       " 'oblivion',\n",
       " 'pacific',\n",
       " 'rim',\n",
       " 'passengers',\n",
       " 'predestination',\n",
       " 'prisoners',\n",
       " 'riddick',\n",
       " 'one',\n",
       " 'story',\n",
       " 'room',\n",
       " 'rush',\n",
       " 'life',\n",
       " 'walter',\n",
       " 'mitty',\n",
       " 'sicario',\n",
       " 'snowpiercer',\n",
       " 'spectre',\n",
       " 'spotlight',\n",
       " 'beyond',\n",
       " 'darkness',\n",
       " 'episode',\n",
       " 'vii',\n",
       " 'force',\n",
       " 'awakens',\n",
       " 'suicide',\n",
       " 'squad',\n",
       " 'amazing',\n",
       " 'hateful',\n",
       " 'eight',\n",
       " 'battle',\n",
       " 'five',\n",
       " 'armies',\n",
       " 'catching',\n",
       " 'fire',\n",
       " '1',\n",
       " 'imitation',\n",
       " 'intern',\n",
       " 'interview',\n",
       " 'lego',\n",
       " 'movie',\n",
       " 'u',\n",
       " 'n',\n",
       " 'c',\n",
       " 'l',\n",
       " 'e',\n",
       " 'martian',\n",
       " 'nice',\n",
       " 'guys',\n",
       " 'revenant',\n",
       " 'theory',\n",
       " 'everything',\n",
       " 'ragnarok',\n",
       " 'dark',\n",
       " 'untitled',\n",
       " 'reboot',\n",
       " 'millers',\n",
       " 'whiplash',\n",
       " 'wolf',\n",
       " 'wall',\n",
       " 'wolverine',\n",
       " 'wonder',\n",
       " 'woman',\n",
       " 'z',\n",
       " 'apocalypse',\n",
       " 'days',\n",
       " 'future',\n",
       " 'past',\n",
       " 'zootopia']"
      ]
     },
     "execution_count": 12,
     "metadata": {},
     "output_type": "execute_result"
    }
   ],
   "source": [
    "# combine all movie titles into singel string with help of concat with space \" \"\n",
    "title = movie_user_rating_index.clean_title.str.cat(sep=' ')\n",
    "#function to split text into word\n",
    "tokens = word_tokenize(title)\n",
    "vocabulary = set(tokens)\n",
    "print(\"Total tokens = {0}\".format(len(tokens)))\n",
    "frequency_dist = nltk.FreqDist(tokens)\n",
    "sorted(frequency_dist,key=frequency_dist.__getitem__, reverse=True)"
   ]
  },
  {
   "cell_type": "code",
   "execution_count": 13,
   "metadata": {},
   "outputs": [
    {
     "data": {
      "image/png": "[encoded data removed]",
      "text/plain": [
       "<Figure size 960x800 with 1 Axes>"
      ]
     },
     "metadata": {},
     "output_type": "display_data"
    }
   ],
   "source": [
    "from wordcloud import WordCloud\n",
    "from matplotlib.pyplot import figure\n",
    "import matplotlib.pyplot as plt\n",
    "figure(num=None, figsize=(12, 10), dpi=80, facecolor='w', edgecolor='k')\n",
    "wordcloud = WordCloud().generate_from_frequencies(frequency_dist)\n",
    "\n",
    "plt.imshow(wordcloud)\n",
    "plt.axis(\"off\")\n",
    "plt.show()"
   ]
  },
  {
   "cell_type": "markdown",
   "metadata": {},
   "source": [
    "#### Create MultinomialNB model"
   ]
  },
  {
   "cell_type": "code",
   "execution_count": 14,
   "metadata": {},
   "outputs": [],
   "source": [
    "# movie title is input and index is output\n",
    "X_train = movie_user_rating_index.clean_title.values\n",
    "y_train = movie_user_rating_index.index.values\n"
   ]
  },
  {
   "cell_type": "code",
   "execution_count": 15,
   "metadata": {},
   "outputs": [
    {
     "name": "stdout",
     "output_type": "stream",
     "text": [
      "(112, 186)\n"
     ]
    }
   ],
   "source": [
    "# To train model, all data should be numbers\n",
    "# X_train is list of title ie these words shoud be converted to numbers with help of bag of words or TFIDF\n",
    "# Y_train is already numbers so we dont need to convert them\n",
    "from sklearn.feature_extraction.text import TfidfTransformer\n",
    "from sklearn.feature_extraction.text import TfidfVectorizer\n",
    "vectorizer = TfidfVectorizer()\n",
    "train_vectors = vectorizer.fit_transform(X_train)\n",
    "print(train_vectors.shape)"
   ]
  },
  {
   "cell_type": "code",
   "execution_count": 16,
   "metadata": {},
   "outputs": [],
   "source": [
    "# create and train the model\n",
    "from sklearn.naive_bayes import MultinomialNB\n",
    "classifier = MultinomialNB().fit(train_vectors, y_train)"
   ]
  },
  {
   "cell_type": "code",
   "execution_count": 17,
   "metadata": {},
   "outputs": [],
   "source": [
    "# Testig the model by passing some title and validate index like accuracy\n",
    "X_test = movie_user_rating_index.loc[:20, 'title'].values\n",
    "y_test = movie_user_rating_index.loc[:20, 'index'].values\n",
    "test_vectors = vectorizer.transform(X_test)"
   ]
  },
  {
   "cell_type": "code",
   "execution_count": 18,
   "metadata": {},
   "outputs": [
    {
     "name": "stdout",
     "output_type": "stream",
     "text": [
      "1.0\n"
     ]
    }
   ],
   "source": [
    "# accuracy score 1.0 ie our model will predict correct index for movie title\n",
    "from  sklearn.metrics  import accuracy_score\n",
    "predicted = classifier.predict(test_vectors)\n",
    "print(accuracy_score(y_test,predicted))"
   ]
  },
  {
   "cell_type": "markdown",
   "metadata": {},
   "source": [
    "#### Manual Tesing"
   ]
  },
  {
   "cell_type": "code",
   "execution_count": 19,
   "metadata": {},
   "outputs": [
    {
     "data": {
      "text/html": [
       "<div>\n",
       "<style scoped>\n",
       "    .dataframe tbody tr th:only-of-type {\n",
       "        vertical-align: middle;\n",
       "    }\n",
       "\n",
       "    .dataframe tbody tr th {\n",
       "        vertical-align: top;\n",
       "    }\n",
       "\n",
       "    .dataframe thead th {\n",
       "        text-align: right;\n",
       "    }\n",
       "</style>\n",
       "<table border=\"1\" class=\"dataframe\">\n",
       "  <thead>\n",
       "    <tr style=\"text-align: right;\">\n",
       "      <th></th>\n",
       "      <th>index</th>\n",
       "      <th>title</th>\n",
       "      <th>clean_title</th>\n",
       "    </tr>\n",
       "  </thead>\n",
       "  <tbody>\n",
       "    <tr>\n",
       "      <th>102</th>\n",
       "      <td>102</td>\n",
       "      <td>we're the millers</td>\n",
       "      <td>millers</td>\n",
       "    </tr>\n",
       "    <tr>\n",
       "      <th>103</th>\n",
       "      <td>103</td>\n",
       "      <td>whiplash</td>\n",
       "      <td>whiplash</td>\n",
       "    </tr>\n",
       "    <tr>\n",
       "      <th>104</th>\n",
       "      <td>104</td>\n",
       "      <td>wolf of wall street, the</td>\n",
       "      <td>wolf wall street</td>\n",
       "    </tr>\n",
       "    <tr>\n",
       "      <th>105</th>\n",
       "      <td>105</td>\n",
       "      <td>wolverine, the</td>\n",
       "      <td>wolverine</td>\n",
       "    </tr>\n",
       "    <tr>\n",
       "      <th>106</th>\n",
       "      <td>106</td>\n",
       "      <td>wonder woman</td>\n",
       "      <td>wonder woman</td>\n",
       "    </tr>\n",
       "    <tr>\n",
       "      <th>107</th>\n",
       "      <td>107</td>\n",
       "      <td>world war z</td>\n",
       "      <td>world war z</td>\n",
       "    </tr>\n",
       "    <tr>\n",
       "      <th>108</th>\n",
       "      <td>108</td>\n",
       "      <td>world's end, the</td>\n",
       "      <td>world end</td>\n",
       "    </tr>\n",
       "    <tr>\n",
       "      <th>109</th>\n",
       "      <td>109</td>\n",
       "      <td>x-men: apocalypse</td>\n",
       "      <td>x men apocalypse</td>\n",
       "    </tr>\n",
       "    <tr>\n",
       "      <th>110</th>\n",
       "      <td>110</td>\n",
       "      <td>x-men: days of future past</td>\n",
       "      <td>x men days future past</td>\n",
       "    </tr>\n",
       "    <tr>\n",
       "      <th>111</th>\n",
       "      <td>111</td>\n",
       "      <td>zootopia</td>\n",
       "      <td>zootopia</td>\n",
       "    </tr>\n",
       "  </tbody>\n",
       "</table>\n",
       "</div>"
      ],
      "text/plain": [
       "     index                        title             clean_title\n",
       "102    102           we're the millers                  millers\n",
       "103    103                    whiplash                 whiplash\n",
       "104    104    wolf of wall street, the         wolf wall street\n",
       "105    105              wolverine, the                wolverine\n",
       "106    106                wonder woman             wonder woman\n",
       "107    107                 world war z              world war z\n",
       "108    108            world's end, the                world end\n",
       "109    109           x-men: apocalypse         x men apocalypse\n",
       "110    110  x-men: days of future past   x men days future past\n",
       "111    111                    zootopia                 zootopia"
      ]
     },
     "execution_count": 19,
     "metadata": {},
     "output_type": "execute_result"
    }
   ],
   "source": [
    "# display last records\n",
    "movie_user_rating_index.tail(10)"
   ]
  },
  {
   "cell_type": "code",
   "execution_count": 20,
   "metadata": {},
   "outputs": [],
   "source": [
    "# Pass movie name and check index predicted correctly or not\n",
    "#name=\" III Rambo\"\n",
    "#name=\"zero dark thirty\"\n",
    "#test_vector= vectorizer.transform([name])\n",
    "#predicted = classifier.predict(test_vector)\n",
    "#print(\"{0} : {1}\".format(predicted[0], movie_user_rating_index.title[predicted[0]]))"
   ]
  },
  {
   "cell_type": "code",
   "execution_count": 21,
   "metadata": {},
   "outputs": [],
   "source": [
    "# Load KNN model\n",
    "model_knn = pickle.load( open( \"collaborativeFiltering_model.pkl\", \"rb\" ) )"
   ]
  },
  {
   "cell_type": "code",
   "execution_count": 22,
   "metadata": {},
   "outputs": [],
   "source": [
    "# load movie_user_rating_index.csv\n",
    "movie_features_index_df=pd.read_csv(\"movie_user_rating_index.csv\",encoding ='utf-8',compression='gzip')"
   ]
  },
  {
   "cell_type": "code",
   "execution_count": 23,
   "metadata": {},
   "outputs": [],
   "source": [
    "# Load pivot test table  - used 10 movies data for testing\n",
    "movie_user_rating_pivottable=pd.read_csv(\"movie_user_rating_pivottable_test.csv\",encoding ='utf-8',compression='gzip')"
   ]
  },
  {
   "cell_type": "code",
   "execution_count": 24,
   "metadata": {},
   "outputs": [],
   "source": [
    "# Pass index and get similar movies\n",
    "def getRecomendedMoviesByIndex(queryIndex,numOfMovies):\n",
    "    distances, indices = model_knn.kneighbors(movie_user_rating_pivottable.iloc[queryIndex,:].values.reshape(1, -1), n_neighbors = numOfMovies)\n",
    "    return distances,indices"
   ]
  },
  {
   "cell_type": "code",
   "execution_count": 25,
   "metadata": {},
   "outputs": [],
   "source": [
    "# Pass movie name and get index\n",
    "def getMovieIndex(name):\n",
    "    name=name.strip().lower()\n",
    "    test_vector= vectorizer.transform([name])\n",
    "    predicted = classifier.predict(test_vector)\n",
    "    print(\"{0} : {1}\".format(predicted[0], movie_features_index_df.title[predicted[0]]))\n",
    "    return predicted[0]"
   ]
  },
  {
   "cell_type": "code",
   "execution_count": 26,
   "metadata": {},
   "outputs": [],
   "source": [
    "# Pass movie name and get similar movies\n",
    "def recommendedMovies(name,numOfMovies=5):\n",
    "    movieList=list()\n",
    "    query_index=getMovieIndex(name)\n",
    "    print(query_index)\n",
    "    distances, indices =getRecomendedMoviesByIndex(query_index,numOfMovies)\n",
    "    for i in range(0, len(distances.flatten())):\n",
    "        movieList.append(movie_features_index_df.title[indices.flatten()[i]])\n",
    "    return movieList"
   ]
  },
  {
   "cell_type": "code",
   "execution_count": 27,
   "metadata": {},
   "outputs": [
    {
     "name": "stdout",
     "output_type": "stream",
     "text": [
      "0 : 10 cloverfield lane \n",
      "0\n"
     ]
    },
    {
     "data": {
      "text/plain": [
       "['10 cloverfield lane ',\n",
       " 'arrival ',\n",
       " 'get out ',\n",
       " 'ex machina ',\n",
       " 'nightcrawler ']"
      ]
     },
     "execution_count": 27,
     "metadata": {},
     "output_type": "execute_result"
    }
   ],
   "source": [
    "recommendedMovies(\"10 000 bc\" ,5)"
   ]
  },
  {
   "cell_type": "code",
   "execution_count": 28,
   "metadata": {},
   "outputs": [],
   "source": [
    "# save the MultinomialNB classifier model\n",
    "fileName=\"collaborativeFiltering_NLP_model.pkl\"\n",
    "pickle.dump(classifier,open(fileName,'wb'))"
   ]
  },
  {
   "cell_type": "code",
   "execution_count": 29,
   "metadata": {},
   "outputs": [],
   "source": [
    "# save the vectorizer classifier model\n",
    "fileName=\"collaborativeFiltering_NLP_vectorizer.pkl\"\n",
    "pickle.dump(vectorizer, open(fileName, \"wb\")) "
   ]
  },
  {
   "cell_type": "code",
   "execution_count": 30,
   "metadata": {},
   "outputs": [],
   "source": [
    "# dont need this csv file\n",
    "# save trained vectorizer\n",
    "#trained_vectorizer = movie_user_rating_index.clean_title.values\n",
    "#trained_vectorizer_df = pd.DataFrame({'trained_vectorizer': trained_vectorizer})\n",
    "\n",
    "#trained_vectorizer_df.to_csv('trained_vectorizer.csv', index=False,encoding='utf-8') "
   ]
  }
 ],
 "metadata": {
  "kernelspec": {
   "display_name": "Python 3",
   "language": "python",
   "name": "python3"
  },
  "language_info": {
   "codemirror_mode": {
    "name": "ipython",
    "version": 3
   },
   "file_extension": ".py",
   "mimetype": "text/x-python",
   "name": "python",
   "nbconvert_exporter": "python",
   "pygments_lexer": "ipython3",
   "version": "3.7.6"
  }
 },
 "nbformat": 4,
 "nbformat_minor": 4
}
